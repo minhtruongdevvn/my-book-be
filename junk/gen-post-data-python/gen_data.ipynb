{
 "cells": [
  {
   "cell_type": "code",
   "execution_count": 1,
   "id": "1db1a020",
   "metadata": {},
   "outputs": [],
   "source": [
    "import pandas as pd\n",
    "import numpy as np\n",
    "import matplotlib.pyplot as plt"
   ]
  },
  {
   "cell_type": "code",
   "execution_count": null,
   "id": "9713caf3",
   "metadata": {},
   "outputs": [],
   "source": [
    "# data is the 1% sample from: https://github.com/google-research-datasets/wit/blob/main/DATA.md\n",
    "df = pd.read_csv(\"data/wit_v1.train.all-1percent_sample.tsv\", sep='\\t')\n",
    "df.head()"
   ]
  },
  {
   "cell_type": "code",
   "execution_count": null,
   "id": "b0078641",
   "metadata": {},
   "outputs": [],
   "source": [
    "en_df = df[df['page_url'].str.contains('https://en.wikipedia.org')]\n",
    "en_df.head()"
   ]
  },
  {
   "cell_type": "code",
   "execution_count": null,
   "id": "89ac66b4",
   "metadata": {},
   "outputs": [],
   "source": [
    "new_df = en_df.loc[:, ['page_title', 'image_url', 'context_page_description', 'context_section_description']]\n",
    "new_df.dropna(inplace=True)\n",
    "new_df.head()"
   ]
  },
  {
   "cell_type": "code",
   "execution_count": 24,
   "id": "070d2152",
   "metadata": {},
   "outputs": [
    {
     "data": {
      "text/html": [
       "<div>\n",
       "<style scoped>\n",
       "    .dataframe tbody tr th:only-of-type {\n",
       "        vertical-align: middle;\n",
       "    }\n",
       "\n",
       "    .dataframe tbody tr th {\n",
       "        vertical-align: top;\n",
       "    }\n",
       "\n",
       "    .dataframe thead th {\n",
       "        text-align: right;\n",
       "    }\n",
       "</style>\n",
       "<table border=\"1\" class=\"dataframe\">\n",
       "  <thead>\n",
       "    <tr style=\"text-align: right;\">\n",
       "      <th></th>\n",
       "      <th>title</th>\n",
       "      <th>pic</th>\n",
       "      <th>content</th>\n",
       "    </tr>\n",
       "  </thead>\n",
       "  <tbody>\n",
       "    <tr>\n",
       "      <th>5</th>\n",
       "      <td>Chinatown, Sydney</td>\n",
       "      <td>http://upload.wikimedia.org/wikipedia/commons/...</td>\n",
       "      <td>Chinatown is an urban enclave situated in the ...</td>\n",
       "    </tr>\n",
       "    <tr>\n",
       "      <th>6</th>\n",
       "      <td>Jayson Musson</td>\n",
       "      <td>https://upload.wikimedia.org/wikipedia/commons...</td>\n",
       "      <td>Jayson Scott Musson is an artist who lives and...</td>\n",
       "    </tr>\n",
       "    <tr>\n",
       "      <th>8</th>\n",
       "      <td>Euodynerus megaera</td>\n",
       "      <td>https://upload.wikimedia.org/wikipedia/commons...</td>\n",
       "      <td>Euodynerus megaera is a species of stinging wa...</td>\n",
       "    </tr>\n",
       "    <tr>\n",
       "      <th>9</th>\n",
       "      <td>Simon W. Rosendale</td>\n",
       "      <td>https://upload.wikimedia.org/wikipedia/commons...</td>\n",
       "      <td>Simon Wolfe Rosendale was an American lawyer a...</td>\n",
       "    </tr>\n",
       "    <tr>\n",
       "      <th>12</th>\n",
       "      <td>1998 Atlantic hurricane season</td>\n",
       "      <td>https://upload.wikimedia.org/wikipedia/commons...</td>\n",
       "      <td>The 1998 Atlantic hurricane season was one of ...</td>\n",
       "    </tr>\n",
       "  </tbody>\n",
       "</table>\n",
       "</div>"
      ],
      "text/plain": [
       "                             title  \\\n",
       "5                Chinatown, Sydney   \n",
       "6                    Jayson Musson   \n",
       "8               Euodynerus megaera   \n",
       "9               Simon W. Rosendale   \n",
       "12  1998 Atlantic hurricane season   \n",
       "\n",
       "                                                  pic  \\\n",
       "5   http://upload.wikimedia.org/wikipedia/commons/...   \n",
       "6   https://upload.wikimedia.org/wikipedia/commons...   \n",
       "8   https://upload.wikimedia.org/wikipedia/commons...   \n",
       "9   https://upload.wikimedia.org/wikipedia/commons...   \n",
       "12  https://upload.wikimedia.org/wikipedia/commons...   \n",
       "\n",
       "                                              content  \n",
       "5   Chinatown is an urban enclave situated in the ...  \n",
       "6   Jayson Scott Musson is an artist who lives and...  \n",
       "8   Euodynerus megaera is a species of stinging wa...  \n",
       "9   Simon Wolfe Rosendale was an American lawyer a...  \n",
       "12  The 1998 Atlantic hurricane season was one of ...  "
      ]
     },
     "execution_count": 24,
     "metadata": {},
     "output_type": "execute_result"
    }
   ],
   "source": [
    "new_df['content'] = new_df.apply(lambda row: f\"{row['context_page_description']}. {row['context_section_description']}\", axis=1)\n",
    "new_df.drop(['context_page_description', 'context_section_description'], axis=1, inplace=True)\n",
    "new_df.rename(columns={'image_url': 'pic'}, inplace=True)\n",
    "new_df.rename(columns={'page_title': 'title'}, inplace=True)\n",
    "new_df.head()"
   ]
  },
  {
   "cell_type": "code",
   "execution_count": null,
   "id": "74cbc3ae",
   "metadata": {},
   "outputs": [],
   "source": [
    "from sklearn.externals import joblib\n",
    "lda = joblib.load('models/my_book_post_lda.pkl')"
   ]
  },
  {
   "cell_type": "code",
   "execution_count": 30,
   "id": "42da1fb3",
   "metadata": {},
   "outputs": [
    {
     "data": {
      "text/html": [
       "<style>#sk-container-id-2 {color: black;}#sk-container-id-2 pre{padding: 0;}#sk-container-id-2 div.sk-toggleable {background-color: white;}#sk-container-id-2 label.sk-toggleable__label {cursor: pointer;display: block;width: 100%;margin-bottom: 0;padding: 0.3em;box-sizing: border-box;text-align: center;}#sk-container-id-2 label.sk-toggleable__label-arrow:before {content: \"▸\";float: left;margin-right: 0.25em;color: #696969;}#sk-container-id-2 label.sk-toggleable__label-arrow:hover:before {color: black;}#sk-container-id-2 div.sk-estimator:hover label.sk-toggleable__label-arrow:before {color: black;}#sk-container-id-2 div.sk-toggleable__content {max-height: 0;max-width: 0;overflow: hidden;text-align: left;background-color: #f0f8ff;}#sk-container-id-2 div.sk-toggleable__content pre {margin: 0.2em;color: black;border-radius: 0.25em;background-color: #f0f8ff;}#sk-container-id-2 input.sk-toggleable__control:checked~div.sk-toggleable__content {max-height: 200px;max-width: 100%;overflow: auto;}#sk-container-id-2 input.sk-toggleable__control:checked~label.sk-toggleable__label-arrow:before {content: \"▾\";}#sk-container-id-2 div.sk-estimator input.sk-toggleable__control:checked~label.sk-toggleable__label {background-color: #d4ebff;}#sk-container-id-2 div.sk-label input.sk-toggleable__control:checked~label.sk-toggleable__label {background-color: #d4ebff;}#sk-container-id-2 input.sk-hidden--visually {border: 0;clip: rect(1px 1px 1px 1px);clip: rect(1px, 1px, 1px, 1px);height: 1px;margin: -1px;overflow: hidden;padding: 0;position: absolute;width: 1px;}#sk-container-id-2 div.sk-estimator {font-family: monospace;background-color: #f0f8ff;border: 1px dotted black;border-radius: 0.25em;box-sizing: border-box;margin-bottom: 0.5em;}#sk-container-id-2 div.sk-estimator:hover {background-color: #d4ebff;}#sk-container-id-2 div.sk-parallel-item::after {content: \"\";width: 100%;border-bottom: 1px solid gray;flex-grow: 1;}#sk-container-id-2 div.sk-label:hover label.sk-toggleable__label {background-color: #d4ebff;}#sk-container-id-2 div.sk-serial::before {content: \"\";position: absolute;border-left: 1px solid gray;box-sizing: border-box;top: 0;bottom: 0;left: 50%;z-index: 0;}#sk-container-id-2 div.sk-serial {display: flex;flex-direction: column;align-items: center;background-color: white;padding-right: 0.2em;padding-left: 0.2em;position: relative;}#sk-container-id-2 div.sk-item {position: relative;z-index: 1;}#sk-container-id-2 div.sk-parallel {display: flex;align-items: stretch;justify-content: center;background-color: white;position: relative;}#sk-container-id-2 div.sk-item::before, #sk-container-id-2 div.sk-parallel-item::before {content: \"\";position: absolute;border-left: 1px solid gray;box-sizing: border-box;top: 0;bottom: 0;left: 50%;z-index: -1;}#sk-container-id-2 div.sk-parallel-item {display: flex;flex-direction: column;z-index: 1;position: relative;background-color: white;}#sk-container-id-2 div.sk-parallel-item:first-child::after {align-self: flex-end;width: 50%;}#sk-container-id-2 div.sk-parallel-item:last-child::after {align-self: flex-start;width: 50%;}#sk-container-id-2 div.sk-parallel-item:only-child::after {width: 0;}#sk-container-id-2 div.sk-dashed-wrapped {border: 1px dashed gray;margin: 0 0.4em 0.5em 0.4em;box-sizing: border-box;padding-bottom: 0.4em;background-color: white;}#sk-container-id-2 div.sk-label label {font-family: monospace;font-weight: bold;display: inline-block;line-height: 1.2em;}#sk-container-id-2 div.sk-label-container {text-align: center;}#sk-container-id-2 div.sk-container {/* jupyter's `normalize.less` sets `[hidden] { display: none; }` but bootstrap.min.css set `[hidden] { display: none !important; }` so we also need the `!important` here to be able to override the default hidden behavior on the sphinx rendered scikit-learn.org. See: https://github.com/scikit-learn/scikit-learn/issues/21755 */display: inline-block !important;position: relative;}#sk-container-id-2 div.sk-text-repr-fallback {display: none;}</style><div id=\"sk-container-id-2\" class=\"sk-top-container\"><div class=\"sk-text-repr-fallback\"><pre>LatentDirichletAllocation(n_components=30)</pre><b>In a Jupyter environment, please rerun this cell to show the HTML representation or trust the notebook. <br />On GitHub, the HTML representation is unable to render, please try loading this page with nbviewer.org.</b></div><div class=\"sk-container\" hidden><div class=\"sk-item\"><div class=\"sk-estimator sk-toggleable\"><input class=\"sk-toggleable__control sk-hidden--visually\" id=\"sk-estimator-id-2\" type=\"checkbox\" checked><label for=\"sk-estimator-id-2\" class=\"sk-toggleable__label sk-toggleable__label-arrow\">LatentDirichletAllocation</label><div class=\"sk-toggleable__content\"><pre>LatentDirichletAllocation(n_components=30)</pre></div></div></div></div></div>"
      ],
      "text/plain": [
       "LatentDirichletAllocation(n_components=30)"
      ]
     },
     "execution_count": 30,
     "metadata": {},
     "output_type": "execute_result"
    }
   ],
   "source": [
    "from sklearn.feature_extraction.text import CountVectorizer\n",
    "from sklearn.decomposition import LatentDirichletAllocation\n",
    "\n",
    "documents = new_df.apply(lambda row: f\"{row['title']} {row['content']}\", axis=1)\n",
    "vectorizer = CountVectorizer(stop_words='english')\n",
    "X = vectorizer.fit_transform(documents)\n",
    "lda = LatentDirichletAllocation(n_components=30)\n",
    "lda.fit(X)"
   ]
  },
  {
   "cell_type": "code",
   "execution_count": 32,
   "id": "9bc4f236",
   "metadata": {},
   "outputs": [
    {
     "data": {
      "text/plain": [
       "['models/my_book_post_lda.pkl']"
      ]
     },
     "execution_count": 32,
     "metadata": {},
     "output_type": "execute_result"
    }
   ],
   "source": [
    "import joblib\n",
    "joblib.dump(lda, 'models/my_book_post_lda.pkl')"
   ]
  },
  {
   "cell_type": "code",
   "execution_count": 33,
   "id": "80f986c4",
   "metadata": {},
   "outputs": [
    {
     "name": "stdout",
     "output_type": "stream",
     "text": [
      "Topic 0:\n",
      "school university station railway college public line city services students\n",
      "Topic 1:\n",
      "air force united army states squadron aircraft military command unit\n",
      "Topic 2:\n",
      "road bridge route highway line railway traffic north south street\n",
      "Topic 3:\n",
      "list tropical storm australia heritage season hurricane sites south solar\n",
      "Topic 4:\n",
      "election new united won held time states team american year\n",
      "Topic 5:\n",
      "museum park london station garden new baseball art railway opened\n",
      "Topic 6:\n",
      "species white type known black common red plant long small\n",
      "Topic 7:\n",
      "war ship aircraft navy ships world class british built battle\n",
      "Topic 8:\n",
      "species family genus airport known described list marine lc endemic\n",
      "Topic 9:\n",
      "people india indian islands south island world region population africa\n",
      "Topic 10:\n",
      "wales south new sydney australia van amsterdam family australian dutch\n",
      "Topic 11:\n",
      "church st catholic saint temple cathedral century bishop roman christian\n",
      "Topic 12:\n",
      "town village municipality population north district area south located west\n",
      "Topic 13:\n",
      "party member served president minister born university politician general american\n",
      "Topic 14:\n",
      "film american television series best known award actor born films\n",
      "Topic 15:\n",
      "war government state army military forces states world union people\n",
      "Topic 16:\n",
      "russian ukraine ukrainian cuisine city armenian armenia meat russia dish\n",
      "Topic 17:\n",
      "company production model car new sold produced based market ford\n",
      "Topic 18:\n",
      "art century style period works known work early architecture painting\n",
      "Topic 19:\n",
      "league football team club played season game player games cup\n",
      "Topic 20:\n",
      "di italy italian portuguese paris portugal da french arrondissement lisbon\n",
      "Topic 21:\n",
      "music band album released song rock songs singer musical group\n",
      "Topic 22:\n",
      "king french son chinese royal battle john family british died\n",
      "Topic 23:\n",
      "building house built historic street national buildings city new located\n",
      "Topic 24:\n",
      "france world olympics medal protein commune department gold olympic championships\n",
      "Topic 25:\n",
      "used use water energy process different form light using called\n",
      "Topic 26:\n",
      "used power engine line car use speed class cars electric\n",
      "Topic 27:\n",
      "area park mountain located river lake north forest mountains south\n",
      "Topic 28:\n",
      "district american born year singer actor january german french april\n",
      "Topic 29:\n",
      "county city river state states united area north population census\n"
     ]
    }
   ],
   "source": [
    "# Get the feature names (words) from the vectorizer\n",
    "feature_names = vectorizer.get_feature_names_out()\n",
    "# Print the top words for each topic\n",
    "for topic_idx, topic in enumerate(lda.components_):\n",
    "    print(f\"Topic {topic_idx}:\")\n",
    "    print(\" \".join([feature_names[i] for i in topic.argsort()[:-10 - 1:-1]]))"
   ]
  },
  {
   "cell_type": "code",
   "execution_count": null,
   "id": "a46e151a",
   "metadata": {},
   "outputs": [],
   "source": [
    "from sklearn.feature_extraction.text import CountVectorizer\n",
    "\n",
    "documents = new_df.apply(lambda row: f\"{row['title']} {row['content']}\", axis=1)\n",
    "\n",
    "# Create a CountVectorizer object to vectorize the text data\n",
    "vectorizer = CountVectorizer(stop_words='english')\n",
    "vectorizer.fit(documents)\n",
    "# Vectorize the text data\n",
    "X = vectorizer.transform(documents)\n",
    "\n",
    "# Transform the vectorized text data into the topic space\n",
    "topic_probs = lda.transform(X)\n",
    "\n",
    "# Assign the most probable topic to each row\n",
    "new_df['topic'] = topic_probs.argmax(axis=1)\n",
    "\n",
    "# Define a mapping from topic indices to topic labels\n",
    "topic_labels = {\n",
    " 0: \"Public Transportation and Education\",\n",
    " 1: \"Military\",\n",
    " 2: \"Roads and Highways\",\n",
    " 3: \"Natural Disasters and Heritage Sites\",\n",
    " 4: \"Elections and Sports\",\n",
    " 5: \"Museums, Parks, and Arts\",\n",
    " 6: \"Species and Plants\",\n",
    " 7: \"Naval Warfare\",\n",
    " 8: \"Marine Species and Airports\",\n",
    " 9: \"Population and Geography of India and Africa\",\n",
    " 10: \"Australia, New South Wales, and Dutch Heritage\",\n",
    " 11: \"Religious Buildings and Figures\",\n",
    " 12: \"Municipalities and Population\",\n",
    " 13: \"Politicians and Public Servants\",\n",
    " 14: \"Film and Television Industry\",\n",
    " 15: \"War and Government\",\n",
    " 16: \"Russian, Ukrainian, and Armenian Cuisine\",\n",
    " 17: \"Automobile Industry\",\n",
    " 18: \"Art History and Architecture\",\n",
    " 19: \"Football (Soccer)\",\n",
    " 20: \"Italy, Portugal, France, and Parisian Arrondissement\",\n",
    " 21: \"Music Industry\",\n",
    " 22: \"Monarchy and Royal Families\",\n",
    " 23: \"Historic Buildings and National Landmarks\",\n",
    " 24: \"Olympics, Sports, and Protein Science in France\",\n",
    " 25: \"Energy, Water, and Light Processes\",\n",
    " 26: \"Automobiles and Engines\",\n",
    " 27: \"Parks, Mountains, Rivers, Lakes, and Forests\",\n",
    " 28: \"Singers, Actors, Birthdays, Nationalities\",\n",
    " 29: \"United States Counties, Cities, Rivers\",\n",
    "}\n",
    "\n",
    "# Replace the topic indices with topic labels\n",
    "new_df['topic'] = new_df['topic'].map(topic_labels)\n",
    "\n",
    "new_df.head()\n"
   ]
  },
  {
   "cell_type": "code",
   "execution_count": 40,
   "id": "f7a62569",
   "metadata": {},
   "outputs": [],
   "source": [
    "new_df.to_csv('processed-data/my_book_post.csv', index=False)"
   ]
  },
  {
   "cell_type": "code",
   "execution_count": 41,
   "id": "e4649633",
   "metadata": {},
   "outputs": [],
   "source": [
    "new_df.to_json('processed-data/my_book_post.json', orient='records')\n",
    "\n",
    "import pandas as pd\n",
    "import json\n",
    "\n",
    "result = new_df.to_json(orient='records')\n",
    "parsed = json.loads(result)\n",
    "json_out = json.dumps(parsed, indent=4)\n",
    "\n",
    "with open('processed-data/my_book_post.json', 'w') as file:\n",
    "    file.write(json_out)\n"
   ]
  }
 ],
 "metadata": {
  "kernelspec": {
   "display_name": "Python 3 (ipykernel)",
   "language": "python",
   "name": "python3"
  },
  "language_info": {
   "codemirror_mode": {
    "name": "ipython",
    "version": 3
   },
   "file_extension": ".py",
   "mimetype": "text/x-python",
   "name": "python",
   "nbconvert_exporter": "python",
   "pygments_lexer": "ipython3",
   "version": "3.10.9"
  }
 },
 "nbformat": 4,
 "nbformat_minor": 5
}
